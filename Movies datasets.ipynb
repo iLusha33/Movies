{
 "cells": [
  {
   "cell_type": "markdown",
   "id": "c02596fb-0948-4a13-938b-d57d0fcd1a02",
   "metadata": {},
   "source": [
    "Задание 1 (python):\n",
    "В архиве 5 файлов: \n",
    "1. movies.xlsx: id фильма, название фильма и его популярность\n",
    "2. financials.xlsx: id фильма, его расходы и доходы\n",
    "3. movie_to_genres.xlsx: id фильма и его жанры\n",
    "4. sequels.xlsx: сиквелы фильмов (по id)\n",
    "5. crews.xlsx: кто работал над созданием фильма\n",
    "\n",
    "Необходимо с помощью jupyter notebook и библиотеки pandas ответить на следующие вопросы по датасету:\n",
    "1. Выведи самые высокобюджетные жанры в среднем и медианном соотношении. \n",
    "А жанры, которые зарабатывают больше всего? Выведи топ 3\n",
    "\n",
    "2. Выясни, в среднем сиквелы зарабатывают больше своих предшественников?\n",
    "Выведи топ 3 сиквела, которые в сравнении с предшественником заработали больше денег\n",
    "\n",
    "3. Создай датасет кинорежиссеров (Director), которые работали на других ролях в кино. (Результат вывода: кинорежиссер, профессия, фильм)\n",
    "Какие кинорежиссеры самые разносторонние?"
   ]
  },
  {
   "cell_type": "code",
   "execution_count": 29,
   "id": "2310ccbc-7809-425d-9cfe-66d2cfd0be8a",
   "metadata": {},
   "outputs": [],
   "source": [
    "import pandas as pd\n",
    "\n",
    "movies = pd.read_excel('Movies datasets/movies.xlsx')\n",
    "financials = pd.read_excel('Movies datasets/financials.xlsx')\n",
    "movie_to_genres = pd.read_excel('Movies datasets/movie_to_genres.xlsx')\n",
    "sequels = pd.read_excel('Movies datasets/sequels.xlsx')\n",
    "crews = pd.read_excel('Movies datasets/crews.xlsx')"
   ]
  },
  {
   "cell_type": "code",
   "execution_count": 30,
   "id": "620d6dde-e9fc-49bd-a5e7-30358a444c28",
   "metadata": {},
   "outputs": [
    {
     "name": "stdout",
     "output_type": "stream",
     "text": [
      "Самые высокобюджетные жанры\n",
      "              genre        mean      median\n",
      "2         Animation  80826708.0  75000000.0\n",
      "1         Adventure  76892389.0  60000000.0\n",
      "8           Fantasy  75640923.0  60000000.0\n",
      "7            Family  68241749.0  56000000.0\n",
      "15  Science Fiction  62814049.0  44000000.0\n",
      "0            Action  62390552.0  45000000.0\n",
      "17              War  40984556.0  28500000.0\n",
      "16         Thriller  40953931.0  30000000.0\n",
      "13          Mystery  38765784.0  30000000.0\n",
      "10          History  37754868.0  25000000.0\n",
      "3            Comedy  36155455.0  25000000.0\n",
      "18          Western  35481642.0  18000000.0\n",
      "4             Crime  34754720.0  26000000.0\n",
      "6             Drama  30024848.0  20000000.0\n",
      "14          Romance  28298663.0  20000000.0\n",
      "12            Music  23969798.0  17500000.0\n",
      "11           Horror  20557630.0  13500000.0\n",
      "5       Documentary   5422902.0   2276824.0\n",
      "9           Foreign   2645001.0   1000000.0\n"
     ]
    }
   ],
   "source": [
    "# 1. Найдем самые высокобюджетные жанры в среднем и медианном соотношении\n",
    "movies_financials = pd.merge(movies, financials, on='id')\n",
    "movies_financials_genres = pd.merge(movies_financials, movie_to_genres, left_on='id', right_on='movie_id')\n",
    "\n",
    "budget_stats_by_genre = movies_financials_genres.groupby('genre')['budget'].agg(['mean', 'median']).reset_index().round()  \n",
    "\n",
    "budget_stats_by_genre_sorted_mean = budget_stats_by_genre.sort_values(by='mean', ascending=False)\n",
    "\n",
    "print(\"Самые высокобюджетные жанры\")\n",
    "print(budget_stats_by_genre_sorted_mean)"
   ]
  },
  {
   "cell_type": "code",
   "execution_count": 31,
   "id": "32aecdce-3970-4982-91e7-42e061d0e596",
   "metadata": {},
   "outputs": [
    {
     "name": "stdout",
     "output_type": "stream",
     "text": [
      "Топ-3 жанра по выручке\n",
      "       genre       revenue\n",
      "1  Adventure  163667924328\n",
      "0     Action  162316088236\n",
      "3     Comedy  120412094932\n"
     ]
    }
   ],
   "source": [
    "# Три самых зарабатывающих жанра\n",
    "revenue_stats_by_genre = movies_financials_genres.groupby('genre')['revenue'].sum().reset_index()    \n",
    "\n",
    "revenue_stats_by_genre_sorted = revenue_stats_by_genre.sort_values(by='revenue', ascending=False)\n",
    "\n",
    "top_3_genres_by_revenue = revenue_stats_by_genre_sorted.head(3)\n",
    "print(\"Топ-3 жанра по выручке\") \n",
    "print(top_3_genres_by_revenue)"
   ]
  },
  {
   "cell_type": "code",
   "execution_count": 33,
   "id": "2312c668-670c-414d-ac4e-a0fc21b901ef",
   "metadata": {},
   "outputs": [
    {
     "name": "stdout",
     "output_type": "stream",
     "text": [
      "Средняя разница в доходах между сиквелами и их предшественниками: 151187973.0 \n"
     ]
    }
   ],
   "source": [
    "# 2. Сколько сиквелы зарабатывают относительно предшествующих фильмов\n",
    "financials = pd.read_excel('Movies datasets/financials.xlsx')\n",
    "\n",
    "sequels_financials = pd.merge(sequels, financials[['id', 'revenue']], left_on='id', right_on='id', how='left')\n",
    "sequels_financials = pd.merge(sequels_financials, financials[['id', 'revenue']], left_on='sequel', right_on='id', suffixes=('_original', '_sequel'))\n",
    "\n",
    "sequels_financials['revenue_diff'] = sequels_financials['revenue_sequel'] - sequels_financials['revenue_original']\n",
    "\n",
    "average_revenue_diff = sequels_financials['revenue_diff'].mean()\n",
    "print(f\"Средняя разница в доходах между сиквелами и их предшественниками: {average_revenue_diff.round()} \")"
   ]
  },
  {
   "cell_type": "code",
   "execution_count": 34,
   "id": "a440f522-3705-4f7a-a42c-6dfa9385881c",
   "metadata": {},
   "outputs": [
    {
     "name": "stdout",
     "output_type": "stream",
     "text": [
      "Топ-3 сиквела, которые заработали больше предшественников:\n",
      "                title  revenue_original  revenue_sequel  revenue_diff\n",
      "28  Jurassic Park III       368780809.0      1513528810  1.144748e+09\n",
      "26      Batman Begins       374218673.0      1004558444  6.303398e+08\n",
      "11         Iron Man 2       623933331.0      1215439994  5.915067e+08\n"
     ]
    }
   ],
   "source": [
    "# Топ-3 сиквела, которые заработали больше предшественников\n",
    "top_3_sequels = sequels_financials.sort_values(by='revenue_diff', ascending=False).head(3)\n",
    "\n",
    "print(\"Топ-3 сиквела, которые заработали больше предшественников:\")\n",
    "print(top_3_sequels[['title', 'revenue_original', 'revenue_sequel', 'revenue_diff']])"
   ]
  },
  {
   "cell_type": "code",
   "execution_count": 20,
   "id": "b5fd7ef8-12ee-4d33-9b09-9a125baa19c4",
   "metadata": {},
   "outputs": [
    {
     "name": "stdout",
     "output_type": "stream",
     "text": [
      "Режиссеры, работавшие на других ролях\n",
      "                   name                 job                      title\n",
      "0         James Cameron              Writer                     Avatar\n",
      "1      Robert Stromberg   Production Design                     Avatar\n",
      "2     Christopher Nolan            Producer      The Dark Knight Rises\n",
      "3        Andrew Stanton          Screenplay                John Carter\n",
      "4         John Lasseter              Thanks                John Carter\n",
      "...                 ...                 ...                        ...\n",
      "1989        John Waters              Editor             Pink Flamingos\n",
      "1990       Tadeo Garcia               Story             On The Downlow\n",
      "1991      Shane Carruth      Cinematography                     Primer\n",
      "1992   Robert Rodriguez            Producer                El Mariachi\n",
      "1993        Scott Smith  Executive Producer  Signed, Sealed, Delivered\n",
      "\n",
      "[1994 rows x 3 columns]\n"
     ]
    }
   ],
   "source": [
    "# 3. Какие режиссеры работали на других ролях\n",
    "directors_df = crews[crews['job'] == 'Director']\n",
    "\n",
    "non_director_roles_df = crews[(crews['name'].isin(directors_df['name'])) & (crews['job'] != 'Director')]\n",
    "\n",
    "director_roles_with_titles_df = pd.merge(non_director_roles_df, movies, on='id')\n",
    "\n",
    "director_roles_with_titles_df = director_roles_with_titles_df[['name', 'job', 'title']]\n",
    "print(\"Режиссеры, работавшие на других ролях\")\n",
    "print(director_roles_with_titles_df)"
   ]
  },
  {
   "cell_type": "code",
   "execution_count": 21,
   "id": "39820d7b-3595-49b1-95bb-1c31b85cf13a",
   "metadata": {},
   "outputs": [
    {
     "name": "stdout",
     "output_type": "stream",
     "text": [
      "\n",
      "Самые разносторонние режиссеры\n",
      "                            name  number_of_jobs\n",
      "770             Robert Rodriguez              14\n",
      "554                   Luc Besson               6\n",
      "313                 George Lucas               5\n",
      "14   Alejandro González Iñárritu               5\n",
      "434               John Carpenter               5\n",
      "..                           ...             ...\n",
      "938               Wayne Thornley               1\n",
      "937                 Wayne Kramer               1\n",
      "936                  Wayne Beach               1\n",
      "951            William A. Graham               1\n",
      "935                Warren Beatty               1\n",
      "\n",
      "[967 rows x 2 columns]\n"
     ]
    }
   ],
   "source": [
    "# Найдем, какие режиссеры выполняли больше всего ролей при съемке фильмов\n",
    "diverse_directors = director_roles_with_titles_df.groupby('name')['job'].nunique().reset_index()\n",
    "diverse_directors = diverse_directors.rename(columns={'job': 'number_of_jobs'}).sort_values(by='number_of_jobs', ascending=False)\n",
    "\n",
    "print(\"Самые разносторонние режиссеры\")\n",
    "print(diverse_directors)"
   ]
  },
  {
   "cell_type": "code",
   "execution_count": null,
   "id": "e741e526-58ab-4833-a644-ce646c9643d9",
   "metadata": {},
   "outputs": [],
   "source": []
  },
  {
   "cell_type": "code",
   "execution_count": null,
   "id": "fc5f51a9-094c-4163-b561-5aecfd9d3022",
   "metadata": {},
   "outputs": [],
   "source": []
  }
 ],
 "metadata": {
  "kernelspec": {
   "display_name": "Python 3 (ipykernel)",
   "language": "python",
   "name": "python3"
  },
  "language_info": {
   "codemirror_mode": {
    "name": "ipython",
    "version": 3
   },
   "file_extension": ".py",
   "mimetype": "text/x-python",
   "name": "python",
   "nbconvert_exporter": "python",
   "pygments_lexer": "ipython3",
   "version": "3.12.6"
  }
 },
 "nbformat": 4,
 "nbformat_minor": 5
}
